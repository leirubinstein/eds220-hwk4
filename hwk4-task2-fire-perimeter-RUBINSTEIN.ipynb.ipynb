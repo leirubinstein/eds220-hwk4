{
 "cells": [
  {
   "cell_type": "markdown",
   "id": "1b9427db-c9ec-435f-b410-f7fa1062df7f",
   "metadata": {},
   "source": [
    "# Task 2: Visualizing fire scars through false color\n",
    "\n",
    "## 3 - 5"
   ]
  },
  {
   "cell_type": "code",
   "execution_count": null,
   "id": "b7d0bf4b-9d34-410f-acd6-a32359acd096",
   "metadata": {},
   "outputs": [],
   "source": []
  }
 ],
 "metadata": {
  "kernelspec": {
   "display_name": "Anaconda 3 (EDS220)",
   "language": "python",
   "name": "eds220-env"
  },
  "language_info": {
   "codemirror_mode": {
    "name": "ipython",
    "version": 3
   },
   "file_extension": ".py",
   "mimetype": "text/x-python",
   "name": "python",
   "nbconvert_exporter": "python",
   "pygments_lexer": "ipython3",
   "version": "3.11.4"
  }
 },
 "nbformat": 4,
 "nbformat_minor": 5
}
